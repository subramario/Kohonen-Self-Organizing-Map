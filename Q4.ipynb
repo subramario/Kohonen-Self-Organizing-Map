{
 "cells": [
  {
   "cell_type": "markdown",
   "metadata": {},
   "source": [
    "# Import Statements"
   ]
  },
  {
   "cell_type": "code",
   "execution_count": null,
   "metadata": {},
   "outputs": [],
   "source": [
    "import pandas as pd\n",
    "import matplotlib.pyplot as plt \n",
    "import numpy as np \n",
    "import math \n",
    "import random"
   ]
  },
  {
   "cell_type": "markdown",
   "metadata": {},
   "source": [
    "# Helper Functions\n",
    "\n",
    "## Input Colors\n",
    "* 6 colors: Red, Green, Blue, Yellow, Pink, Teal\n",
    "* 24 total shades --> 4 shades per color!\n",
    "* Matplotlib only recognizes RGB colors in form: (r,g,b) where r,g,b in range 0-1"
   ]
  },
  {
   "cell_type": "code",
   "execution_count": null,
   "metadata": {
    "tags": []
   },
   "outputs": [],
   "source": [
    "def input_vectors():\n",
    "\n",
    "    rgb_scale = []\n",
    "    \n",
    "    # Red\n",
    "    rgb_scale.append((255,0,0))\n",
    "    rgb_scale.append((250,93,93))\n",
    "    rgb_scale.append((238,42,42))\n",
    "    rgb_scale.append((193,6,6))\n",
    "\n",
    "    # Green\n",
    "    rgb_scale.append((0,255,0))\n",
    "    rgb_scale.append((16,209,16))\n",
    "    rgb_scale.append((30,144,30))\n",
    "    rgb_scale.append((123,243,123))\n",
    "\n",
    "    # Blue\n",
    "    rgb_scale.append((0,0,255))\n",
    "    rgb_scale.append((88,88,255))\n",
    "    rgb_scale.append((29,29,193))\n",
    "    rgb_scale.append((13,13,171))\n",
    "\n",
    "    # Yellow\n",
    "    rgb_scale.append((255,255,0))\n",
    "    rgb_scale.append((242,242,58))\n",
    "    rgb_scale.append((236,236,34))\n",
    "    rgb_scale.append((249,249,108))\n",
    "\n",
    "    # Pink\n",
    "    rgb_scale.append((255,0,255))\n",
    "    rgb_scale.append((210,18,210))\n",
    "    rgb_scale.append((238,137,238))\n",
    "    rgb_scale.append((152,34,152))\n",
    "\n",
    "    # Teal\n",
    "    rgb_scale.append((0,255,255))\n",
    "    rgb_scale.append((0,128,128))\n",
    "    rgb_scale.append((115,240,240))\n",
    "    rgb_scale.append((81,206,206))\n",
    "\n",
    "    converted_scale = np.asarray(rgb_scale)/255\n",
    "    np.random.shuffle(converted_scale)\n",
    "    \n",
    "    \n",
    "\n",
    "    return converted_scale\n",
    "\n"
   ]
  },
  {
   "cell_type": "code",
   "execution_count": null,
   "metadata": {},
   "outputs": [],
   "source": [
    "def initialize_weights():\n",
    "    W = np.random.rand(100,100,3)\n",
    "    return W"
   ]
  },
  {
   "cell_type": "code",
   "execution_count": null,
   "metadata": {},
   "outputs": [],
   "source": [
    "def winning_neuron(input_vector, weights):     \n",
    "    sub = input_vector - weights\n",
    "    square = np.power(sub,2)\n",
    "    performance_matrix = np.sum(square, axis = 2)\n",
    "    winner = np.unravel_index(performance_matrix.argmin(), performance_matrix.shape)\n",
    "    \n",
    "    return winner"
   ]
  },
  {
   "cell_type": "code",
   "execution_count": null,
   "metadata": {
    "tags": []
   },
   "outputs": [],
   "source": [
    "def distance_matrix(winner):\n",
    "    arr = np.zeros([100,100])\n",
    "    result = np.where(arr == 0)\n",
    "    result = np.asarray(result)\n",
    "    first = result[0]\n",
    "    second = result[1]\n",
    "    combined = np.vstack((first, second)).T\n",
    "    combined = combined.reshape(100,100,2)\n",
    "    \n",
    "    distance_matrix = combined - winner\n",
    "    \n",
    "    distance_matrix = np.sqrt(np.sum((np.power(distance_matrix,2)),axis=2))\n",
    "\n",
    "    return distance_matrix"
   ]
  },
  {
   "cell_type": "code",
   "execution_count": null,
   "metadata": {},
   "outputs": [],
   "source": [
    "def learning_rate(current_epoch,total_epoch):\n",
    "    alpha_zero = 0.8\n",
    "    learning_rate = alpha_zero * math.exp(-1 * current_epoch/total_epoch)\n",
    "\n",
    "    return learning_rate"
   ]
  },
  {
   "cell_type": "code",
   "execution_count": null,
   "metadata": {},
   "outputs": [],
   "source": [
    "def neighborhood(sigma_nought,current_epoch,total_epochs, distance_matrix):\n",
    "\n",
    "    sigma = sigma_nought * math.exp(-1 * current_epoch/total_epochs)\n",
    "    neighborhood = np.exp(-1 * np.power(distance_matrix,2)/ math.pow(2*sigma,2))\n",
    "\n",
    "    return neighborhood"
   ]
  },
  {
   "cell_type": "code",
   "execution_count": null,
   "metadata": {},
   "outputs": [],
   "source": [
    "def update_weights(weights,input,current_epoch,total_epoch,neighborhood):\n",
    "    neighborhood = neighborhood.reshape(100,100,1)\n",
    "    alpha = learning_rate(current_epoch, total_epoch)\n",
    "    difference = input - weights\n",
    "\n",
    "    updated_weights = weights + alpha*neighborhood*difference\n",
    "\n",
    "    return updated_weights"
   ]
  },
  {
   "cell_type": "markdown",
   "metadata": {},
   "source": [
    "# Question 4 Code\n"
   ]
  },
  {
   "cell_type": "code",
   "execution_count": null,
   "metadata": {
    "tags": []
   },
   "outputs": [],
   "source": [
    "def main(sigma_nought):\n",
    "    weights = initialize_weights()\n",
    "    input_color = input_vectors()\n",
    "    total_epochs = 1000\n",
    "\n",
    "    plot_weights = []\n",
    "    plot_weights.append(weights)\n",
    "    for epoch in range(total_epochs):\n",
    "        for i in range(len(input_color)):\n",
    "            crown = winning_neuron(input_color[i], weights)\n",
    "            d_ij = distance_matrix(crown)\n",
    "            h_ij = neighborhood(sigma_nought, epoch, total_epochs, d_ij)\n",
    "            weights = update_weights(weights,input_color[i],epoch,total_epochs,h_ij)\n",
    "            \n",
    "        if epoch == 19 or epoch == 39 or epoch == 99 or epoch == 499 or epoch == 999:\n",
    "            plot_weights.append(weights)\n",
    "\n",
    "    \n",
    "    figure, axes = plt.subplots(nrows=2, ncols=3)\n",
    "    axes[0,0].imshow(plot_weights[0])\n",
    "    axes[0,0].set_title(\"Epoch = 0\")\n",
    "    axes[0,0].axis('off')\n",
    "\n",
    "    axes[0,1].imshow(plot_weights[1])\n",
    "    axes[0,1].set_title(\"Epoch = 20\")\n",
    "    axes[0,1].axis('off')\n",
    "\n",
    "    axes[0,2].imshow(plot_weights[2])\n",
    "    axes[0,2].set_title(\"Epoch = 40\")\n",
    "    axes[0,2].axis('off')\n",
    "\n",
    "    axes[1,0].imshow(plot_weights[3])\n",
    "    axes[1,0].set_title(\"Epoch = 100\")\n",
    "    axes[1,0].axis('off')\n",
    "\n",
    "    axes[1,1].imshow(plot_weights[4])\n",
    "    axes[1,1].set_title(\"Epoch = 500\")\n",
    "    axes[1,1].axis('off')\n",
    "\n",
    "    axes[1,2].imshow(plot_weights[5])\n",
    "    axes[1,2].set_title(\"Epoch = 1000\")\n",
    "    axes[1,2].axis('off')\n",
    "\n",
    "    figure.tight_layout()\n"
   ]
  },
  {
   "cell_type": "markdown",
   "metadata": {},
   "source": [
    "# Output\n",
    "### To run the KSOM for a specific $\\sigma$<sub>o</sub> use: `main(sigma_value)`\n",
    "\n",
    "\n",
    "## Sigma = 1"
   ]
  },
  {
   "cell_type": "code",
   "execution_count": null,
   "metadata": {},
   "outputs": [],
   "source": [
    "main(50)"
   ]
  }
 ],
 "metadata": {
  "language_info": {
   "codemirror_mode": {
    "name": "ipython",
    "version": 3
   },
   "file_extension": ".py",
   "mimetype": "text/x-python",
   "name": "python",
   "nbconvert_exporter": "python",
   "pygments_lexer": "ipython3",
   "version": "3.8.2-final"
  },
  "orig_nbformat": 2,
  "kernelspec": {
   "name": "python3",
   "display_name": "Python 3"
  }
 },
 "nbformat": 4,
 "nbformat_minor": 2
}